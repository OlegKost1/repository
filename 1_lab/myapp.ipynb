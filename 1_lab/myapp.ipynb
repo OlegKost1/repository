{
 "cells": [
  {
   "cell_type": "code",
   "execution_count": null,
   "metadata": {},
   "outputs": [],
   "source": [
    "from datetime import datetime\n",
    "name = \"Oleg\"\n",
    "\n",
    "print(f\"{name} start programming at {datetime.now()}\")\n",
    "k start programming at 2022-10-24 19:55:23.205903\n",
    "head\n",
    "My first program\n",
    "\n",
    "sadhsah slpadjs"
   ]
  }
 ],
 "metadata": {
  "language_info": {
   "name": "python"
  },
  "orig_nbformat": 4
 },
 "nbformat": 4,
 "nbformat_minor": 2
}
