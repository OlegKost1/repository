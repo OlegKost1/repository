{
 "cells": [
  {
   "cell_type": "code",
   "execution_count": null,
   "metadata": {},
   "outputs": [],
   "source": [
    "from datetime import datetime\n",
    "name = \"Oleg\"\n",
    "\n",
    "print(f\"{name} start programming at {datetime.now()}\")\n",
    "Oleg start programming at 2022-10-31 14:17:47.633059\n",
    "head\n",
    "My first program\n",
    "\n",
    "sadhsah slpadjs"
   ]
  }
 ],
 "metadata": {
  "language_info": {
   "name": "python"
  },
  "orig_nbformat": 4
 },
 "nbformat": 4,
 "nbformat_minor": 2
}

